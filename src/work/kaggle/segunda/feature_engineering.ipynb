{
 "cells": [
  {
   "cell_type": "code",
   "execution_count": 1,
   "id": "initial_id",
   "metadata": {
    "collapsed": true,
    "ExecuteTime": {
     "end_time": "2023-09-28T21:24:40.869648Z",
     "start_time": "2023-09-28T21:24:40.812075Z"
    }
   },
   "outputs": [],
   "source": [
    "import duckdb, os\n",
    "\n",
    "os.chdir('../../../../')"
   ]
  },
  {
   "cell_type": "code",
   "execution_count": 2,
   "outputs": [],
   "source": [
    "path_database = 'database/dmeyf.db'\n",
    "path_file_raw = 'datasets/raw/competencia_02_crudo.csv'\n",
    "path_file_processed = 'datasets/processed/competencia_02.csv'\n",
    "path_file_foto_reporte = 'datasets/processed/competencia_02_foto_reporte.csv'\n",
    "path_file_clase_ternaria = 'datasets/processed/competencia_02.csv'"
   ],
   "metadata": {
    "collapsed": false,
    "ExecuteTime": {
     "end_time": "2023-09-28T21:24:41.289533Z",
     "start_time": "2023-09-28T21:24:41.284550Z"
    }
   },
   "id": "485609e86decf36b"
  },
  {
   "cell_type": "code",
   "execution_count": 3,
   "outputs": [
    {
     "data": {
      "text/plain": "FloatProgress(value=0.0, layout=Layout(width='auto'), style=ProgressStyle(bar_color='black'))",
      "application/vnd.jupyter.widget-view+json": {
       "version_major": 2,
       "version_minor": 0,
       "model_id": "05df9463a8224da1b19d2c61c972bb16"
      }
     },
     "metadata": {},
     "output_type": "display_data"
    }
   ],
   "source": [
    "con = duckdb.connect(path_database)\n",
    "\n",
    "con.sql(f\"\"\"\n",
    "        CREATE OR REPLACE TABLE competencia_02 AS (\n",
    "            SELECT\n",
    "                *\n",
    "            FROM read_csv_auto('{path_file_raw}')\n",
    "        );\n",
    "        \"\"\"\n",
    ")"
   ],
   "metadata": {
    "collapsed": false,
    "ExecuteTime": {
     "end_time": "2023-09-28T21:25:13.666836Z",
     "start_time": "2023-09-28T21:24:41.909511Z"
    }
   },
   "id": "5bfd27f72aa1f15b"
  },
  {
   "cell_type": "code",
   "execution_count": 14,
   "outputs": [
    {
     "data": {
      "text/plain": "┌───────────────────┬──────────┬────────────────┬───┬────────────────┬──────────────────────┬──────────────────┐\n│ numero_de_cliente │ foto_mes │ active_quarter │ … │ Visa_cconsumos │ Visa_cadelantosefe…  │ Visa_mpagominimo │\n│       int64       │  int64   │     int64      │   │     int64      │        int64         │      double      │\n├───────────────────┼──────────┼────────────────┼───┼────────────────┼──────────────────────┼──────────────────┤\n│          29183981 │   201901 │              1 │ … │             54 │                    0 │          5008.71 │\n│          29184630 │   201901 │              1 │ … │             10 │                    0 │          1395.87 │\n│          29185587 │   201901 │              1 │ … │              2 │                    0 │              0.0 │\n│          29185646 │   201901 │              1 │ … │             31 │                    0 │          2897.31 │\n│          29187499 │   201901 │              1 │ … │              3 │                    0 │           492.66 │\n│          29188277 │   201901 │              1 │ … │              6 │                    0 │           797.64 │\n│          29188490 │   201901 │              1 │ … │             41 │                    0 │          9172.86 │\n│          29188883 │   201901 │              1 │ … │              1 │                    0 │            58.65 │\n│          29189950 │   201901 │              1 │ … │             19 │                    0 │          1137.81 │\n│          29190599 │   201901 │              1 │ … │              2 │                    0 │          1219.92 │\n├───────────────────┴──────────┴────────────────┴───┴────────────────┴──────────────────────┴──────────────────┤\n│ 10 rows                                                                                154 columns (6 shown) │\n└──────────────────────────────────────────────────────────────────────────────────────────────────────────────┘"
     },
     "execution_count": 14,
     "metadata": {},
     "output_type": "execute_result"
    }
   ],
   "source": [
    "con.sql(\n",
    "    \"\"\"\n",
    "    SELECT *\n",
    "    FROM competencia_02\n",
    "    --WHERE numero_de_cliente = 29183981\n",
    "    LIMIT 10;\n",
    "    \"\"\"\n",
    ")"
   ],
   "metadata": {
    "collapsed": false,
    "ExecuteTime": {
     "end_time": "2023-09-28T21:38:50.600252Z",
     "start_time": "2023-09-28T21:38:50.579987Z"
    }
   },
   "id": "e708f24d9991fcf"
  },
  {
   "cell_type": "code",
   "execution_count": 8,
   "outputs": [
    {
     "data": {
      "text/plain": "┌─────────────────────────┬─────────────┬─────────┬─────────┬─────────┬─────────┐\n│       column_name       │ column_type │  null   │   key   │ default │  extra  │\n│         varchar         │   varchar   │ varchar │ varchar │ varchar │ varchar │\n├─────────────────────────┼─────────────┼─────────┼─────────┼─────────┼─────────┤\n│ numero_de_cliente       │ BIGINT      │ YES     │ NULL    │ NULL    │ NULL    │\n│ foto_mes                │ BIGINT      │ YES     │ NULL    │ NULL    │ NULL    │\n│ active_quarter          │ BIGINT      │ YES     │ NULL    │ NULL    │ NULL    │\n│ cliente_vip             │ BIGINT      │ YES     │ NULL    │ NULL    │ NULL    │\n│ internet                │ BIGINT      │ YES     │ NULL    │ NULL    │ NULL    │\n│ cliente_edad            │ BIGINT      │ YES     │ NULL    │ NULL    │ NULL    │\n│ cliente_antiguedad      │ BIGINT      │ YES     │ NULL    │ NULL    │ NULL    │\n│ mrentabilidad           │ DOUBLE      │ YES     │ NULL    │ NULL    │ NULL    │\n│ mrentabilidad_annual    │ DOUBLE      │ YES     │ NULL    │ NULL    │ NULL    │\n│ mcomisiones             │ DOUBLE      │ YES     │ NULL    │ NULL    │ NULL    │\n│      ·                  │   ·         │  ·      │  ·      │  ·      │  ·      │\n│      ·                  │   ·         │  ·      │  ·      │  ·      │  ·      │\n│      ·                  │   ·         │  ·      │  ·      │  ·      │  ·      │\n│ Visa_madelantodolares   │ DOUBLE      │ YES     │ NULL    │ NULL    │ NULL    │\n│ Visa_fultimo_cierre     │ BIGINT      │ YES     │ NULL    │ NULL    │ NULL    │\n│ Visa_mpagado            │ DOUBLE      │ YES     │ NULL    │ NULL    │ NULL    │\n│ Visa_mpagospesos        │ DOUBLE      │ YES     │ NULL    │ NULL    │ NULL    │\n│ Visa_mpagosdolares      │ DOUBLE      │ YES     │ NULL    │ NULL    │ NULL    │\n│ Visa_fechaalta          │ BIGINT      │ YES     │ NULL    │ NULL    │ NULL    │\n│ Visa_mconsumototal      │ DOUBLE      │ YES     │ NULL    │ NULL    │ NULL    │\n│ Visa_cconsumos          │ BIGINT      │ YES     │ NULL    │ NULL    │ NULL    │\n│ Visa_cadelantosefectivo │ BIGINT      │ YES     │ NULL    │ NULL    │ NULL    │\n│ Visa_mpagominimo        │ DOUBLE      │ YES     │ NULL    │ NULL    │ NULL    │\n├─────────────────────────┴─────────────┴─────────┴─────────┴─────────┴─────────┤\n│ 154 rows (20 shown)                                                 6 columns │\n└───────────────────────────────────────────────────────────────────────────────┘"
     },
     "execution_count": 8,
     "metadata": {},
     "output_type": "execute_result"
    }
   ],
   "source": [
    "con.sql(\n",
    "    \"\"\"\n",
    "    DESCRIBE SELECT * FROM competencia_02;\n",
    "    \"\"\"\n",
    ")"
   ],
   "metadata": {
    "collapsed": false,
    "ExecuteTime": {
     "end_time": "2023-09-28T21:31:33.075474Z",
     "start_time": "2023-09-28T21:31:33.062845Z"
    }
   },
   "id": "d755dbba1a34a455"
  },
  {
   "cell_type": "code",
   "execution_count": 29,
   "outputs": [
    {
     "data": {
      "text/plain": "┌───────────────────┬──────────┬────────────────┬──────────────────────┬──────────────────────┐\n│ numero_de_cliente │ foto_mes │ Visa_cconsumos │ Visa_cconsumos_lag_1 │ Visa_cconsumos_lag_2 │\n│       int64       │  int64   │     int64      │        int64         │        int64         │\n├───────────────────┼──────────┼────────────────┼──────────────────────┼──────────────────────┤\n│          30069432 │   201901 │             17 │                 NULL │                 NULL │\n│          30069432 │   201902 │             18 │                   17 │                 NULL │\n│          30069432 │   201903 │             26 │                   18 │                   17 │\n│          30069432 │   201904 │             42 │                   26 │                   18 │\n│          30069432 │   201905 │             19 │                   42 │                   26 │\n│          30069432 │   201906 │             28 │                   19 │                   42 │\n│          30069432 │   201907 │             55 │                   28 │                   19 │\n│          30069432 │   201908 │             19 │                   55 │                   28 │\n│          30069432 │   201909 │              7 │                   19 │                   55 │\n│          30069432 │   201910 │             12 │                    7 │                   19 │\n│              ·    │      ·   │              · │                    · │                    · │\n│              ·    │      ·   │              · │                    · │                    · │\n│              ·    │      ·   │              · │                    · │                    · │\n│          30069432 │   202010 │              5 │                    5 │                   10 │\n│          30069432 │   202011 │              6 │                    5 │                    5 │\n│          30069432 │   202012 │              8 │                    6 │                    5 │\n│          30069432 │   202101 │             11 │                    8 │                    6 │\n│          30069432 │   202102 │              8 │                   11 │                    8 │\n│          30069432 │   202103 │              3 │                    8 │                   11 │\n│          30069432 │   202104 │              1 │                    3 │                    8 │\n│          30069432 │   202105 │              3 │                    1 │                    3 │\n│          30069432 │   202106 │              1 │                    3 │                    1 │\n│          30069432 │   202107 │              2 │                    1 │                    3 │\n├───────────────────┴──────────┴────────────────┴──────────────────────┴──────────────────────┤\n│ 31 rows (20 shown)                                                                5 columns │\n└─────────────────────────────────────────────────────────────────────────────────────────────┘"
     },
     "execution_count": 29,
     "metadata": {},
     "output_type": "execute_result"
    }
   ],
   "source": [
    "# Calculate lag features using foto_mes as date column and numero_de_cliente as group column\n",
    "con.sql(\n",
    "    \"\"\"\n",
    "    SELECT\n",
    "        *,\n",
    "        LAG(Visa_cconsumos, 1) OVER (PARTITION BY numero_de_cliente ORDER BY foto_mes) AS Visa_cconsumos_lag_1,\n",
    "        LAG(Visa_cconsumos, 2) OVER (PARTITION BY numero_de_cliente ORDER BY foto_mes) AS Visa_cconsumos_lag_2,\n",
    "        LAG(Visa_cconsumos, 3) OVER (PARTITION BY numero_de_cliente ORDER BY foto_mes) AS Visa_cconsumos_lag_3,\n",
    "        LAG(Visa_cconsumos, 4) OVER (PARTITION BY numero_de_cliente ORDER BY foto_mes) AS Visa_cconsumos_lag_4,\n",
    "        \n",
    "        LAG(mrentabilidad, 1) OVER (PARTITION BY numero_de_cliente ORDER BY foto_mes) AS mrentabilidad_lag_1,\n",
    "        LAG(mrentabilidad, 2) OVER (PARTITION BY numero_de_cliente ORDER BY foto_mes) AS mrentabilidad_lag_2,\n",
    "        LAG(mrentabilidad, 3) OVER (PARTITION BY numero_de_cliente ORDER BY foto_mes) AS mrentabilidad_lag_3,\n",
    "        LAG(mrentabilidad, 4) OVER (PARTITION BY numero_de_cliente ORDER BY foto_mes) AS mrentabilidad_lag_4\n",
    "    FROM competencia_02\n",
    "    ORDER BY numero_de_cliente, foto_mes;\n",
    "    \"\"\"\n",
    ")\n",
    "            \n",
    "    "
   ],
   "metadata": {
    "collapsed": false,
    "ExecuteTime": {
     "end_time": "2023-09-28T21:55:32.792182Z",
     "start_time": "2023-09-28T21:55:32.774862Z"
    }
   },
   "id": "2285d7413a67b5c1"
  },
  {
   "cell_type": "code",
   "execution_count": null,
   "outputs": [],
   "source": [
    "|"
   ],
   "metadata": {
    "collapsed": false
   },
   "id": "541af9bbfa52f256"
  }
 ],
 "metadata": {
  "kernelspec": {
   "display_name": "Python 3",
   "language": "python",
   "name": "python3"
  },
  "language_info": {
   "codemirror_mode": {
    "name": "ipython",
    "version": 2
   },
   "file_extension": ".py",
   "mimetype": "text/x-python",
   "name": "python",
   "nbconvert_exporter": "python",
   "pygments_lexer": "ipython2",
   "version": "2.7.6"
  }
 },
 "nbformat": 4,
 "nbformat_minor": 5
}
