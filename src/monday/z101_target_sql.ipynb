{
 "cells": [
  {
   "cell_type": "markdown",
   "metadata": {},
   "source": [
    "# Crear Target\n",
    "\n",
    "## Ejercicio 1:\n",
    "Cree el archivo `competencia_01.csv`, usando el `competencia_01_crudo.csv` con una variable adicional llamada `clase_ternaria`, que contenga las categorías **CONTINUA**, **BAJA+1** y **BAJA+2** \n",
    "\n",
    "### Ayudita \n",
    "\n",
    "Para practicar el muy útil y necesario lenguaje **SQL**, vamos a utilizar una base de datos **OLAP** llamada **DuckDB**. \n",
    "\n",
    "La documentación la puede encontrar [aquí](https://duckdb.org/docs/archive/0.8.1/sql/introduction)\n",
    "Procedemos a instalarla, esto se debe ejecutar una sola vez"
   ]
  },
  {
   "cell_type": "code",
   "execution_count": 1,
   "metadata": {
    "ExecuteTime": {
     "end_time": "2023-08-17T23:45:57.959711Z",
     "start_time": "2023-08-17T23:45:49.526371Z"
    }
   },
   "outputs": [
    {
     "name": "stdout",
     "output_type": "stream",
     "text": [
      "Collecting duckdb\n",
      "  Downloading duckdb-0.8.1-cp310-cp310-macosx_11_0_arm64.whl (12.6 MB)\n",
      "\u001B[2K     \u001B[90m━━━━━━━━━━━━━━━━━━━━━━━━━━━━━━━━━━━━━━━━\u001B[0m \u001B[32m12.6/12.6 MB\u001B[0m \u001B[31m10.4 MB/s\u001B[0m eta \u001B[36m0:00:00\u001B[0m00:01\u001B[0m00:01\u001B[0m\n",
      "\u001B[?25hInstalling collected packages: duckdb\n",
      "Successfully installed duckdb-0.8.1\n",
      "Collecting jupysql\n",
      "  Downloading jupysql-0.9.1-py3-none-any.whl (80 kB)\n",
      "\u001B[2K     \u001B[90m━━━━━━━━━━━━━━━━━━━━━━━━━━━━━━━━━━━━━━━━\u001B[0m \u001B[32m80.7/80.7 kB\u001B[0m \u001B[31m2.3 MB/s\u001B[0m eta \u001B[36m0:00:00\u001B[0m\n",
      "\u001B[?25hRequirement already satisfied: ipython in /Users/uribe/miniconda3/lib/python3.10/site-packages (from jupysql) (8.14.0)\n",
      "Collecting ploomber-core>=0.2.7\n",
      "  Downloading ploomber_core-0.2.14-py3-none-any.whl (21 kB)\n",
      "Requirement already satisfied: ipython-genutils>=0.1.0 in /Users/uribe/miniconda3/lib/python3.10/site-packages (from jupysql) (0.2.0)\n",
      "Requirement already satisfied: sqlparse in /Users/uribe/miniconda3/lib/python3.10/site-packages (from jupysql) (0.4.4)\n",
      "Collecting sqlglot>=11.3.7\n",
      "  Downloading sqlglot-17.14.2-py3-none-any.whl (293 kB)\n",
      "\u001B[2K     \u001B[90m━━━━━━━━━━━━━━━━━━━━━━━━━━━━━━━━━━━━━━━\u001B[0m \u001B[32m293.7/293.7 kB\u001B[0m \u001B[31m6.4 MB/s\u001B[0m eta \u001B[36m0:00:00\u001B[0m00:01\u001B[0m\n",
      "\u001B[?25hRequirement already satisfied: jinja2 in /Users/uribe/miniconda3/lib/python3.10/site-packages (from jupysql) (3.1.2)\n",
      "Requirement already satisfied: sqlalchemy in /Users/uribe/miniconda3/lib/python3.10/site-packages (from jupysql) (1.4.48)\n",
      "Collecting prettytable\n",
      "  Downloading prettytable-3.8.0-py3-none-any.whl (27 kB)\n",
      "Requirement already satisfied: click in /Users/uribe/miniconda3/lib/python3.10/site-packages (from ploomber-core>=0.2.7->jupysql) (8.1.3)\n",
      "Collecting posthog\n",
      "  Downloading posthog-3.0.2-py2.py3-none-any.whl (37 kB)\n",
      "Requirement already satisfied: pyyaml in /Users/uribe/miniconda3/lib/python3.10/site-packages (from ploomber-core>=0.2.7->jupysql) (5.4.1)\n",
      "Requirement already satisfied: matplotlib-inline in /Users/uribe/miniconda3/lib/python3.10/site-packages (from ipython->jupysql) (0.1.6)\n",
      "Requirement already satisfied: pexpect>4.3 in /Users/uribe/miniconda3/lib/python3.10/site-packages (from ipython->jupysql) (4.8.0)\n",
      "Requirement already satisfied: pygments>=2.4.0 in /Users/uribe/miniconda3/lib/python3.10/site-packages (from ipython->jupysql) (2.15.1)\n",
      "Requirement already satisfied: pickleshare in /Users/uribe/miniconda3/lib/python3.10/site-packages (from ipython->jupysql) (0.7.5)\n",
      "Requirement already satisfied: jedi>=0.16 in /Users/uribe/miniconda3/lib/python3.10/site-packages (from ipython->jupysql) (0.18.2)\n",
      "Requirement already satisfied: backcall in /Users/uribe/miniconda3/lib/python3.10/site-packages (from ipython->jupysql) (0.2.0)\n",
      "Requirement already satisfied: stack-data in /Users/uribe/miniconda3/lib/python3.10/site-packages (from ipython->jupysql) (0.6.2)\n",
      "Requirement already satisfied: traitlets>=5 in /Users/uribe/miniconda3/lib/python3.10/site-packages (from ipython->jupysql) (5.9.0)\n",
      "Requirement already satisfied: prompt-toolkit!=3.0.37,<3.1.0,>=3.0.30 in /Users/uribe/miniconda3/lib/python3.10/site-packages (from ipython->jupysql) (3.0.38)\n",
      "Requirement already satisfied: appnope in /Users/uribe/miniconda3/lib/python3.10/site-packages (from ipython->jupysql) (0.1.3)\n",
      "Requirement already satisfied: decorator in /Users/uribe/miniconda3/lib/python3.10/site-packages (from ipython->jupysql) (5.1.1)\n",
      "Requirement already satisfied: MarkupSafe>=2.0 in /Users/uribe/miniconda3/lib/python3.10/site-packages (from jinja2->jupysql) (2.1.3)\n",
      "Requirement already satisfied: wcwidth in /Users/uribe/miniconda3/lib/python3.10/site-packages (from prettytable->jupysql) (0.2.6)\n",
      "Requirement already satisfied: parso<0.9.0,>=0.8.0 in /Users/uribe/miniconda3/lib/python3.10/site-packages (from jedi>=0.16->ipython->jupysql) (0.8.3)\n",
      "Requirement already satisfied: ptyprocess>=0.5 in /Users/uribe/miniconda3/lib/python3.10/site-packages (from pexpect>4.3->ipython->jupysql) (0.7.0)\n",
      "Requirement already satisfied: six>=1.5 in /Users/uribe/miniconda3/lib/python3.10/site-packages (from posthog->ploomber-core>=0.2.7->jupysql) (1.16.0)\n",
      "Requirement already satisfied: python-dateutil>2.1 in /Users/uribe/miniconda3/lib/python3.10/site-packages (from posthog->ploomber-core>=0.2.7->jupysql) (2.8.2)\n",
      "Collecting monotonic>=1.5\n",
      "  Downloading monotonic-1.6-py2.py3-none-any.whl (8.2 kB)\n",
      "Requirement already satisfied: requests<3.0,>=2.7 in /Users/uribe/miniconda3/lib/python3.10/site-packages (from posthog->ploomber-core>=0.2.7->jupysql) (2.28.1)\n",
      "Requirement already satisfied: backoff>=1.10.0 in /Users/uribe/miniconda3/lib/python3.10/site-packages (from posthog->ploomber-core>=0.2.7->jupysql) (2.2.1)\n",
      "Requirement already satisfied: pure-eval in /Users/uribe/miniconda3/lib/python3.10/site-packages (from stack-data->ipython->jupysql) (0.2.2)\n",
      "Requirement already satisfied: executing>=1.2.0 in /Users/uribe/miniconda3/lib/python3.10/site-packages (from stack-data->ipython->jupysql) (1.2.0)\n",
      "Requirement already satisfied: asttokens>=2.1.0 in /Users/uribe/miniconda3/lib/python3.10/site-packages (from stack-data->ipython->jupysql) (2.2.1)\n",
      "Requirement already satisfied: charset-normalizer<3,>=2 in /Users/uribe/miniconda3/lib/python3.10/site-packages (from requests<3.0,>=2.7->posthog->ploomber-core>=0.2.7->jupysql) (2.1.1)\n",
      "Requirement already satisfied: idna<4,>=2.5 in /Users/uribe/miniconda3/lib/python3.10/site-packages (from requests<3.0,>=2.7->posthog->ploomber-core>=0.2.7->jupysql) (3.4)\n",
      "Requirement already satisfied: urllib3<1.27,>=1.21.1 in /Users/uribe/miniconda3/lib/python3.10/site-packages (from requests<3.0,>=2.7->posthog->ploomber-core>=0.2.7->jupysql) (1.26.15)\n",
      "Requirement already satisfied: certifi>=2017.4.17 in /Users/uribe/miniconda3/lib/python3.10/site-packages (from requests<3.0,>=2.7->posthog->ploomber-core>=0.2.7->jupysql) (2023.5.7)\n",
      "Installing collected packages: sqlglot, monotonic, prettytable, posthog, ploomber-core, jupysql\n",
      "Successfully installed jupysql-0.9.1 monotonic-1.6 ploomber-core-0.2.14 posthog-3.0.2 prettytable-3.8.0 sqlglot-17.14.2\n",
      "Collecting duckdb-engine\n",
      "  Downloading duckdb_engine-0.9.2-py3-none-any.whl (43 kB)\n",
      "\u001B[2K     \u001B[90m━━━━━━━━━━━━━━━━━━━━━━━━━━━━━━━━━━━━━━━━\u001B[0m \u001B[32m43.1/43.1 kB\u001B[0m \u001B[31m1.4 MB/s\u001B[0m eta \u001B[36m0:00:00\u001B[0m\n",
      "\u001B[?25hRequirement already satisfied: sqlalchemy>=1.3.22 in /Users/uribe/miniconda3/lib/python3.10/site-packages (from duckdb-engine) (1.4.48)\n",
      "Requirement already satisfied: duckdb>=0.4.0 in /Users/uribe/miniconda3/lib/python3.10/site-packages (from duckdb-engine) (0.8.1)\n",
      "Installing collected packages: duckdb-engine\n",
      "Successfully installed duckdb-engine-0.9.2\n"
     ]
    }
   ],
   "source": [
    "%%bash \n",
    "pip install duckdb\n",
    "pip install jupysql\n",
    "pip install duckdb-engine"
   ]
  },
  {
   "cell_type": "markdown",
   "metadata": {},
   "source": [
    "Configuramos el entorno de ejecución. Si ya tiene todo instalado, solo necesita ejecutar esta celda para empezar a usar **duckdb** "
   ]
  },
  {
   "cell_type": "code",
   "execution_count": 9,
   "metadata": {
    "ExecuteTime": {
     "end_time": "2023-08-18T15:07:03.390228Z",
     "start_time": "2023-08-18T15:07:02.990628Z"
    }
   },
   "outputs": [
    {
     "name": "stdout",
     "output_type": "stream",
     "text": [
      "The sql extension is already loaded. To reload it, use:\n",
      "  %reload_ext sql\n"
     ]
    },
    {
     "data": {
      "text/plain": "Switching to connection duckdb:///:default:",
      "text/html": "<span style=\"None\">Switching to connection duckdb:///:default:</span>"
     },
     "metadata": {},
     "output_type": "display_data"
    }
   ],
   "source": [
    "import duckdb\n",
    "import pandas as pd\n",
    "\n",
    "%load_ext sql\n",
    "%config SqlMagic.autopandas = True\n",
    "%config SqlMagic.feedback = False\n",
    "%config SqlMagic.displaycon = False\n",
    "\n",
    "%sql duckdb:///:default:"
   ]
  },
  {
   "cell_type": "markdown",
   "metadata": {},
   "source": [
    "Y ya podemos usar **SQL** dentro de una notebook!"
   ]
  },
  {
   "cell_type": "code",
   "execution_count": 10,
   "metadata": {
    "ExecuteTime": {
     "end_time": "2023-08-18T15:07:08.471627Z",
     "start_time": "2023-08-18T15:07:07.969579Z"
    }
   },
   "outputs": [
    {
     "data": {
      "text/plain": "  'hola mundo'\n0   hola mundo",
      "text/html": "<div>\n<style scoped>\n    .dataframe tbody tr th:only-of-type {\n        vertical-align: middle;\n    }\n\n    .dataframe tbody tr th {\n        vertical-align: top;\n    }\n\n    .dataframe thead th {\n        text-align: right;\n    }\n</style>\n<table border=\"1\" class=\"dataframe\">\n  <thead>\n    <tr style=\"text-align: right;\">\n      <th></th>\n      <th>'hola mundo'</th>\n    </tr>\n  </thead>\n  <tbody>\n    <tr>\n      <th>0</th>\n      <td>hola mundo</td>\n    </tr>\n  </tbody>\n</table>\n</div>"
     },
     "execution_count": 10,
     "metadata": {},
     "output_type": "execute_result"
    }
   ],
   "source": [
    "%%sql\n",
    "select 'hola mundo' "
   ]
  },
  {
   "cell_type": "markdown",
   "metadata": {},
   "source": [
    "Para cargar el archivo `.csv` a una tabla:"
   ]
  },
  {
   "cell_type": "code",
   "execution_count": 11,
   "metadata": {
    "ExecuteTime": {
     "end_time": "2023-08-18T15:07:15.299768Z",
     "start_time": "2023-08-18T15:07:12.910150Z"
    }
   },
   "outputs": [
    {
     "data": {
      "text/plain": "    Count\n0  491063",
      "text/html": "<div>\n<style scoped>\n    .dataframe tbody tr th:only-of-type {\n        vertical-align: middle;\n    }\n\n    .dataframe tbody tr th {\n        vertical-align: top;\n    }\n\n    .dataframe thead th {\n        text-align: right;\n    }\n</style>\n<table border=\"1\" class=\"dataframe\">\n  <thead>\n    <tr style=\"text-align: right;\">\n      <th></th>\n      <th>Count</th>\n    </tr>\n  </thead>\n  <tbody>\n    <tr>\n      <th>0</th>\n      <td>491063</td>\n    </tr>\n  </tbody>\n</table>\n</div>"
     },
     "execution_count": 11,
     "metadata": {},
     "output_type": "execute_result"
    }
   ],
   "source": [
    "%%sql\n",
    "create or replace table competencia_01 as\n",
    "select \n",
    "    *\n",
    "from read_csv_auto('../../datasets/competencia_01_crudo.csv')"
   ]
  },
  {
   "cell_type": "markdown",
   "metadata": {},
   "source": [
    "Hagamos unas queries básicas para comprobar que todo esta funcionando bien."
   ]
  },
  {
   "cell_type": "code",
   "execution_count": 12,
   "metadata": {
    "ExecuteTime": {
     "end_time": "2023-08-18T15:07:45.366629Z",
     "start_time": "2023-08-18T15:07:44.879600Z"
    }
   },
   "outputs": [
    {
     "data": {
      "text/plain": "   numero_de_cliente  foto_mes  active_quarter  cliente_vip  internet  \\\n0           29183981    202103               1            0         0   \n1           29184630    202103               1            0         0   \n2           29185433    202103               1            0         0   \n3           29185587    202103               1            0         0   \n4           29185646    202103               1            0         0   \n\n   cliente_edad  cliente_antiguedad  mrentabilidad  mrentabilidad_annual  \\\n0            50                 197       14468.81             125765.29   \n1            59                 322       11901.57              74158.93   \n2            68                 268         847.15              21672.47   \n3            79                 322        4976.94              47735.98   \n4            60                 257        2860.45              37800.71   \n\n   mcomisiones  ...  Visa_madelantodolares  Visa_fultimo_cierre  Visa_mpagado  \\\n0      2389.82  ...                    0.0                    7          0.00   \n1     18750.68  ...                    0.0                    1          0.00   \n2       481.62  ...                    0.0                   21       4692.00   \n3      1839.31  ...                    0.0                    1          0.00   \n4      4035.40  ...                    0.0                   21     380616.14   \n\n   Visa_mpagospesos  Visa_mpagosdolares  Visa_fechaalta  Visa_mconsumototal  \\\n0        -114954.00                0.00            5938           101050.66   \n1         -40330.15               17.59            4089            26834.09   \n2          -1173.00                0.00            7829             1651.36   \n3         -15988.67                0.00            7580            30025.29   \n4         -97383.25                0.00            7827           359610.70   \n\n   Visa_cconsumos  Visa_cadelantosefectivo  Visa_mpagominimo  \n0              68                        0          71811.06  \n1               7                        0           3894.36  \n2               3                        0           1560.09  \n3              11                        0           1700.85  \n4              31                        0          15600.90  \n\n[5 rows x 154 columns]",
      "text/html": "<div>\n<style scoped>\n    .dataframe tbody tr th:only-of-type {\n        vertical-align: middle;\n    }\n\n    .dataframe tbody tr th {\n        vertical-align: top;\n    }\n\n    .dataframe thead th {\n        text-align: right;\n    }\n</style>\n<table border=\"1\" class=\"dataframe\">\n  <thead>\n    <tr style=\"text-align: right;\">\n      <th></th>\n      <th>numero_de_cliente</th>\n      <th>foto_mes</th>\n      <th>active_quarter</th>\n      <th>cliente_vip</th>\n      <th>internet</th>\n      <th>cliente_edad</th>\n      <th>cliente_antiguedad</th>\n      <th>mrentabilidad</th>\n      <th>mrentabilidad_annual</th>\n      <th>mcomisiones</th>\n      <th>...</th>\n      <th>Visa_madelantodolares</th>\n      <th>Visa_fultimo_cierre</th>\n      <th>Visa_mpagado</th>\n      <th>Visa_mpagospesos</th>\n      <th>Visa_mpagosdolares</th>\n      <th>Visa_fechaalta</th>\n      <th>Visa_mconsumototal</th>\n      <th>Visa_cconsumos</th>\n      <th>Visa_cadelantosefectivo</th>\n      <th>Visa_mpagominimo</th>\n    </tr>\n  </thead>\n  <tbody>\n    <tr>\n      <th>0</th>\n      <td>29183981</td>\n      <td>202103</td>\n      <td>1</td>\n      <td>0</td>\n      <td>0</td>\n      <td>50</td>\n      <td>197</td>\n      <td>14468.81</td>\n      <td>125765.29</td>\n      <td>2389.82</td>\n      <td>...</td>\n      <td>0.0</td>\n      <td>7</td>\n      <td>0.00</td>\n      <td>-114954.00</td>\n      <td>0.00</td>\n      <td>5938</td>\n      <td>101050.66</td>\n      <td>68</td>\n      <td>0</td>\n      <td>71811.06</td>\n    </tr>\n    <tr>\n      <th>1</th>\n      <td>29184630</td>\n      <td>202103</td>\n      <td>1</td>\n      <td>0</td>\n      <td>0</td>\n      <td>59</td>\n      <td>322</td>\n      <td>11901.57</td>\n      <td>74158.93</td>\n      <td>18750.68</td>\n      <td>...</td>\n      <td>0.0</td>\n      <td>1</td>\n      <td>0.00</td>\n      <td>-40330.15</td>\n      <td>17.59</td>\n      <td>4089</td>\n      <td>26834.09</td>\n      <td>7</td>\n      <td>0</td>\n      <td>3894.36</td>\n    </tr>\n    <tr>\n      <th>2</th>\n      <td>29185433</td>\n      <td>202103</td>\n      <td>1</td>\n      <td>0</td>\n      <td>0</td>\n      <td>68</td>\n      <td>268</td>\n      <td>847.15</td>\n      <td>21672.47</td>\n      <td>481.62</td>\n      <td>...</td>\n      <td>0.0</td>\n      <td>21</td>\n      <td>4692.00</td>\n      <td>-1173.00</td>\n      <td>0.00</td>\n      <td>7829</td>\n      <td>1651.36</td>\n      <td>3</td>\n      <td>0</td>\n      <td>1560.09</td>\n    </tr>\n    <tr>\n      <th>3</th>\n      <td>29185587</td>\n      <td>202103</td>\n      <td>1</td>\n      <td>0</td>\n      <td>0</td>\n      <td>79</td>\n      <td>322</td>\n      <td>4976.94</td>\n      <td>47735.98</td>\n      <td>1839.31</td>\n      <td>...</td>\n      <td>0.0</td>\n      <td>1</td>\n      <td>0.00</td>\n      <td>-15988.67</td>\n      <td>0.00</td>\n      <td>7580</td>\n      <td>30025.29</td>\n      <td>11</td>\n      <td>0</td>\n      <td>1700.85</td>\n    </tr>\n    <tr>\n      <th>4</th>\n      <td>29185646</td>\n      <td>202103</td>\n      <td>1</td>\n      <td>0</td>\n      <td>0</td>\n      <td>60</td>\n      <td>257</td>\n      <td>2860.45</td>\n      <td>37800.71</td>\n      <td>4035.40</td>\n      <td>...</td>\n      <td>0.0</td>\n      <td>21</td>\n      <td>380616.14</td>\n      <td>-97383.25</td>\n      <td>0.00</td>\n      <td>7827</td>\n      <td>359610.70</td>\n      <td>31</td>\n      <td>0</td>\n      <td>15600.90</td>\n    </tr>\n  </tbody>\n</table>\n<p>5 rows × 154 columns</p>\n</div>"
     },
     "execution_count": 12,
     "metadata": {},
     "output_type": "execute_result"
    }
   ],
   "source": [
    "%sql select * from competencia_01 limit 5"
   ]
  },
  {
   "cell_type": "code",
   "execution_count": 13,
   "metadata": {
    "ExecuteTime": {
     "end_time": "2023-08-18T15:31:53.918092Z",
     "start_time": "2023-08-18T15:31:53.369925Z"
    }
   },
   "outputs": [
    {
     "data": {
      "text/plain": "   foto_mes  cantidad\n0    202103    163324\n1    202104    163637\n2    202105    164102",
      "text/html": "<div>\n<style scoped>\n    .dataframe tbody tr th:only-of-type {\n        vertical-align: middle;\n    }\n\n    .dataframe tbody tr th {\n        vertical-align: top;\n    }\n\n    .dataframe thead th {\n        text-align: right;\n    }\n</style>\n<table border=\"1\" class=\"dataframe\">\n  <thead>\n    <tr style=\"text-align: right;\">\n      <th></th>\n      <th>foto_mes</th>\n      <th>cantidad</th>\n    </tr>\n  </thead>\n  <tbody>\n    <tr>\n      <th>0</th>\n      <td>202103</td>\n      <td>163324</td>\n    </tr>\n    <tr>\n      <th>1</th>\n      <td>202104</td>\n      <td>163637</td>\n    </tr>\n    <tr>\n      <th>2</th>\n      <td>202105</td>\n      <td>164102</td>\n    </tr>\n  </tbody>\n</table>\n</div>"
     },
     "execution_count": 13,
     "metadata": {},
     "output_type": "execute_result"
    }
   ],
   "source": [
    "%%sql\n",
    "select \n",
    "    foto_mes\n",
    "    , count(*) as cantidad -- cuenta cuantos casos hay en cada foto_mes \n",
    "                           -- y lo guarda en un campo llamado cantidad\n",
    "from competencia_01\n",
    "group by foto_mes"
   ]
  },
  {
   "cell_type": "markdown",
   "metadata": {},
   "source": [
    "Perfecto, ahora cree una nueva tabla con la variable adicional que se le pide. Algunas funciones que le pueden ser útiles:  [where](https://duckdb.org/docs/sql/query_syntax/where), [left join](https://duckdb.org/docs/sql/query_syntax/from), [case statement](https://duckdb.org/docs/sql/expressions/case)\n",
    "\n"
   ]
  },
  {
   "cell_type": "code",
   "execution_count": 15,
   "metadata": {
    "ExecuteTime": {
     "end_time": "2023-08-18T15:46:41.550462Z",
     "start_time": "2023-08-18T15:46:40.757290Z"
    }
   },
   "outputs": [
    {
     "data": {
      "text/plain": "    Count\n0  491063",
      "text/html": "<div>\n<style scoped>\n    .dataframe tbody tr th:only-of-type {\n        vertical-align: middle;\n    }\n\n    .dataframe tbody tr th {\n        vertical-align: top;\n    }\n\n    .dataframe thead th {\n        text-align: right;\n    }\n</style>\n<table border=\"1\" class=\"dataframe\">\n  <thead>\n    <tr style=\"text-align: right;\">\n      <th></th>\n      <th>Count</th>\n    </tr>\n  </thead>\n  <tbody>\n    <tr>\n      <th>0</th>\n      <td>491063</td>\n    </tr>\n  </tbody>\n</table>\n</div>"
     },
     "execution_count": 15,
     "metadata": {},
     "output_type": "execute_result"
    }
   ],
   "source": [
    "%%sql\n",
    "CREATE OR REPLACE TABLE competencia_01 AS\n",
    "SELECT\n",
    "    C.*,\n",
    "    1 AS clase_ternaria\n",
    "FROM competencia_01 AS C"
   ]
  },
  {
   "cell_type": "code",
   "execution_count": 19,
   "outputs": [
    {
     "data": {
      "text/plain": "      numero_de_cliente  foto_mes  active_quarter  cliente_vip  internet  \\\n0              29212948    202103               1            0         0   \n1              29242359    202103               1            0         0   \n2              29253366    202103               1            0         0   \n3              29283990    202103               1            0         0   \n4              29351531    202103               1            0         0   \n...                 ...       ...             ...          ...       ...   \n4954          182630612    202105               1            0         0   \n4955          183829446    202105               1            0         0   \n4956          186138377    202105               1            0         0   \n4957          186462981    202105               1            0         0   \n4958          186572443    202105               0            0         0   \n\n      cliente_edad  cliente_antiguedad  mrentabilidad  mrentabilidad_annual  \\\n0               65                 181       -1207.52              12966.81   \n1               47                 299        3088.64             100452.18   \n2               51                 322        7294.91              48738.63   \n3               44                  89       -9093.72             -16830.21   \n4               44                  68        -274.59               7186.84   \n...            ...                 ...            ...                   ...   \n4954            26                   7        1029.74               4423.82   \n4955            34                   5        1161.69               8665.06   \n4956            31                   2      -13843.39             -12213.78   \n4957            60                   2        1023.55               1023.55   \n4958            29                   1           0.00                  0.00   \n\n      mcomisiones  ...  Visa_fultimo_cierre  Visa_mpagado  Visa_mpagospesos  \\\n0         4382.16  ...                  1.0           0.0         -76159.48   \n1          967.45  ...                  7.0           0.0         -50072.03   \n2         1260.67  ...                  1.0           0.0          -8785.77   \n3         2241.08  ...                  1.0           0.0         -60063.27   \n4         -239.11  ...                  1.0           0.0         -10454.79   \n...           ...  ...                  ...           ...               ...   \n4954       396.72  ...                  5.0           0.0              0.00   \n4955         0.00  ...                  5.0           0.0          -8809.23   \n4956       921.98  ...                 12.0           0.0              0.00   \n4957      1157.93  ...                  5.0           0.0              0.00   \n4958         0.00  ...                  5.0           0.0               NaN   \n\n      Visa_mpagosdolares  Visa_fechaalta  Visa_mconsumototal  Visa_cconsumos  \\\n0                   0.00          4689.0            30207.51            10.0   \n1                   0.00          5231.0             8152.04             4.0   \n2                   0.00          2486.0            11660.12             7.0   \n3                   2.35          1630.0            29290.22             7.0   \n4                   0.00          1254.0             5209.30             3.0   \n...                  ...             ...                 ...             ...   \n4954                0.00            48.0                0.00             0.0   \n4955                0.00           134.0                0.00             0.0   \n4956                0.00            49.0             7115.07             5.0   \n4957                0.00            50.0             5043.90             2.0   \n4958                 NaN             6.0                 NaN             NaN   \n\n      Visa_cadelantosefectivo  Visa_mpagominimo  clase_ternaria  \n0                         0.0          20222.52               1  \n1                         0.0           2005.83               1  \n2                         0.0          13266.63               1  \n3                         0.0          19952.73               1  \n4                         0.0            609.96               1  \n...                       ...               ...             ...  \n4954                      0.0              0.00               1  \n4955                      0.0           7237.41               1  \n4956                      0.0              0.00               1  \n4957                      0.0           1137.81               1  \n4958                      NaN              0.00               1  \n\n[4959 rows x 155 columns]",
      "text/html": "<div>\n<style scoped>\n    .dataframe tbody tr th:only-of-type {\n        vertical-align: middle;\n    }\n\n    .dataframe tbody tr th {\n        vertical-align: top;\n    }\n\n    .dataframe thead th {\n        text-align: right;\n    }\n</style>\n<table border=\"1\" class=\"dataframe\">\n  <thead>\n    <tr style=\"text-align: right;\">\n      <th></th>\n      <th>numero_de_cliente</th>\n      <th>foto_mes</th>\n      <th>active_quarter</th>\n      <th>cliente_vip</th>\n      <th>internet</th>\n      <th>cliente_edad</th>\n      <th>cliente_antiguedad</th>\n      <th>mrentabilidad</th>\n      <th>mrentabilidad_annual</th>\n      <th>mcomisiones</th>\n      <th>...</th>\n      <th>Visa_fultimo_cierre</th>\n      <th>Visa_mpagado</th>\n      <th>Visa_mpagospesos</th>\n      <th>Visa_mpagosdolares</th>\n      <th>Visa_fechaalta</th>\n      <th>Visa_mconsumototal</th>\n      <th>Visa_cconsumos</th>\n      <th>Visa_cadelantosefectivo</th>\n      <th>Visa_mpagominimo</th>\n      <th>clase_ternaria</th>\n    </tr>\n  </thead>\n  <tbody>\n    <tr>\n      <th>0</th>\n      <td>29212948</td>\n      <td>202103</td>\n      <td>1</td>\n      <td>0</td>\n      <td>0</td>\n      <td>65</td>\n      <td>181</td>\n      <td>-1207.52</td>\n      <td>12966.81</td>\n      <td>4382.16</td>\n      <td>...</td>\n      <td>1.0</td>\n      <td>0.0</td>\n      <td>-76159.48</td>\n      <td>0.00</td>\n      <td>4689.0</td>\n      <td>30207.51</td>\n      <td>10.0</td>\n      <td>0.0</td>\n      <td>20222.52</td>\n      <td>1</td>\n    </tr>\n    <tr>\n      <th>1</th>\n      <td>29242359</td>\n      <td>202103</td>\n      <td>1</td>\n      <td>0</td>\n      <td>0</td>\n      <td>47</td>\n      <td>299</td>\n      <td>3088.64</td>\n      <td>100452.18</td>\n      <td>967.45</td>\n      <td>...</td>\n      <td>7.0</td>\n      <td>0.0</td>\n      <td>-50072.03</td>\n      <td>0.00</td>\n      <td>5231.0</td>\n      <td>8152.04</td>\n      <td>4.0</td>\n      <td>0.0</td>\n      <td>2005.83</td>\n      <td>1</td>\n    </tr>\n    <tr>\n      <th>2</th>\n      <td>29253366</td>\n      <td>202103</td>\n      <td>1</td>\n      <td>0</td>\n      <td>0</td>\n      <td>51</td>\n      <td>322</td>\n      <td>7294.91</td>\n      <td>48738.63</td>\n      <td>1260.67</td>\n      <td>...</td>\n      <td>1.0</td>\n      <td>0.0</td>\n      <td>-8785.77</td>\n      <td>0.00</td>\n      <td>2486.0</td>\n      <td>11660.12</td>\n      <td>7.0</td>\n      <td>0.0</td>\n      <td>13266.63</td>\n      <td>1</td>\n    </tr>\n    <tr>\n      <th>3</th>\n      <td>29283990</td>\n      <td>202103</td>\n      <td>1</td>\n      <td>0</td>\n      <td>0</td>\n      <td>44</td>\n      <td>89</td>\n      <td>-9093.72</td>\n      <td>-16830.21</td>\n      <td>2241.08</td>\n      <td>...</td>\n      <td>1.0</td>\n      <td>0.0</td>\n      <td>-60063.27</td>\n      <td>2.35</td>\n      <td>1630.0</td>\n      <td>29290.22</td>\n      <td>7.0</td>\n      <td>0.0</td>\n      <td>19952.73</td>\n      <td>1</td>\n    </tr>\n    <tr>\n      <th>4</th>\n      <td>29351531</td>\n      <td>202103</td>\n      <td>1</td>\n      <td>0</td>\n      <td>0</td>\n      <td>44</td>\n      <td>68</td>\n      <td>-274.59</td>\n      <td>7186.84</td>\n      <td>-239.11</td>\n      <td>...</td>\n      <td>1.0</td>\n      <td>0.0</td>\n      <td>-10454.79</td>\n      <td>0.00</td>\n      <td>1254.0</td>\n      <td>5209.30</td>\n      <td>3.0</td>\n      <td>0.0</td>\n      <td>609.96</td>\n      <td>1</td>\n    </tr>\n    <tr>\n      <th>...</th>\n      <td>...</td>\n      <td>...</td>\n      <td>...</td>\n      <td>...</td>\n      <td>...</td>\n      <td>...</td>\n      <td>...</td>\n      <td>...</td>\n      <td>...</td>\n      <td>...</td>\n      <td>...</td>\n      <td>...</td>\n      <td>...</td>\n      <td>...</td>\n      <td>...</td>\n      <td>...</td>\n      <td>...</td>\n      <td>...</td>\n      <td>...</td>\n      <td>...</td>\n      <td>...</td>\n    </tr>\n    <tr>\n      <th>4954</th>\n      <td>182630612</td>\n      <td>202105</td>\n      <td>1</td>\n      <td>0</td>\n      <td>0</td>\n      <td>26</td>\n      <td>7</td>\n      <td>1029.74</td>\n      <td>4423.82</td>\n      <td>396.72</td>\n      <td>...</td>\n      <td>5.0</td>\n      <td>0.0</td>\n      <td>0.00</td>\n      <td>0.00</td>\n      <td>48.0</td>\n      <td>0.00</td>\n      <td>0.0</td>\n      <td>0.0</td>\n      <td>0.00</td>\n      <td>1</td>\n    </tr>\n    <tr>\n      <th>4955</th>\n      <td>183829446</td>\n      <td>202105</td>\n      <td>1</td>\n      <td>0</td>\n      <td>0</td>\n      <td>34</td>\n      <td>5</td>\n      <td>1161.69</td>\n      <td>8665.06</td>\n      <td>0.00</td>\n      <td>...</td>\n      <td>5.0</td>\n      <td>0.0</td>\n      <td>-8809.23</td>\n      <td>0.00</td>\n      <td>134.0</td>\n      <td>0.00</td>\n      <td>0.0</td>\n      <td>0.0</td>\n      <td>7237.41</td>\n      <td>1</td>\n    </tr>\n    <tr>\n      <th>4956</th>\n      <td>186138377</td>\n      <td>202105</td>\n      <td>1</td>\n      <td>0</td>\n      <td>0</td>\n      <td>31</td>\n      <td>2</td>\n      <td>-13843.39</td>\n      <td>-12213.78</td>\n      <td>921.98</td>\n      <td>...</td>\n      <td>12.0</td>\n      <td>0.0</td>\n      <td>0.00</td>\n      <td>0.00</td>\n      <td>49.0</td>\n      <td>7115.07</td>\n      <td>5.0</td>\n      <td>0.0</td>\n      <td>0.00</td>\n      <td>1</td>\n    </tr>\n    <tr>\n      <th>4957</th>\n      <td>186462981</td>\n      <td>202105</td>\n      <td>1</td>\n      <td>0</td>\n      <td>0</td>\n      <td>60</td>\n      <td>2</td>\n      <td>1023.55</td>\n      <td>1023.55</td>\n      <td>1157.93</td>\n      <td>...</td>\n      <td>5.0</td>\n      <td>0.0</td>\n      <td>0.00</td>\n      <td>0.00</td>\n      <td>50.0</td>\n      <td>5043.90</td>\n      <td>2.0</td>\n      <td>0.0</td>\n      <td>1137.81</td>\n      <td>1</td>\n    </tr>\n    <tr>\n      <th>4958</th>\n      <td>186572443</td>\n      <td>202105</td>\n      <td>0</td>\n      <td>0</td>\n      <td>0</td>\n      <td>29</td>\n      <td>1</td>\n      <td>0.00</td>\n      <td>0.00</td>\n      <td>0.00</td>\n      <td>...</td>\n      <td>5.0</td>\n      <td>0.0</td>\n      <td>NaN</td>\n      <td>NaN</td>\n      <td>6.0</td>\n      <td>NaN</td>\n      <td>NaN</td>\n      <td>NaN</td>\n      <td>0.00</td>\n      <td>1</td>\n    </tr>\n  </tbody>\n</table>\n<p>4959 rows × 155 columns</p>\n</div>"
     },
     "execution_count": 19,
     "metadata": {},
     "output_type": "execute_result"
    }
   ],
   "source": [
    "%%sql\n",
    "SELECT\n",
    "    *\n",
    "FROM competencia_01\n",
    "WHERE RANDOM() < 0.01;"
   ],
   "metadata": {
    "collapsed": false,
    "ExecuteTime": {
     "end_time": "2023-08-18T15:56:49.696676Z",
     "start_time": "2023-08-18T15:56:49.105200Z"
    }
   }
  },
  {
   "cell_type": "markdown",
   "metadata": {},
   "source": [
    "## Ejercicio 1.1\n",
    "\n",
    "* ¿Cuál es la nominalidad de cada clase?\n",
    "* ¿Cuál es la proporción del target?"
   ]
  },
  {
   "cell_type": "code",
   "execution_count": null,
   "metadata": {},
   "outputs": [],
   "source": [
    "%%sql\n",
    "-- introduzca sus queries"
   ]
  },
  {
   "cell_type": "markdown",
   "metadata": {},
   "source": [
    "Para guardar a un **.csv** simplemente debe ejecutar la siguiente sentencia"
   ]
  },
  {
   "cell_type": "code",
   "execution_count": null,
   "metadata": {},
   "outputs": [],
   "source": [
    "%%sql\n",
    "COPY competencia_01 TO '/home/aleb/dmeyf23/datasets/competencia_01.csv' (FORMAT CSV, HEADER)"
   ]
  },
  {
   "cell_type": "markdown",
   "metadata": {},
   "source": [
    "## Ejercicio 2 - Avanzado\n",
    "Use ahora el archivo `ejercicio_target.csv` y calcule para todos los clientes en todos los periodos su **clase_ternaria** al mismo tiempo"
   ]
  }
 ],
 "metadata": {
  "kernelspec": {
   "display_name": "Python 3",
   "language": "python",
   "name": "python3"
  },
  "language_info": {
   "codemirror_mode": {
    "name": "ipython",
    "version": 3
   },
   "file_extension": ".py",
   "mimetype": "text/x-python",
   "name": "python",
   "nbconvert_exporter": "python",
   "pygments_lexer": "ipython3",
   "version": "3.10.12"
  },
  "orig_nbformat": 4
 },
 "nbformat": 4,
 "nbformat_minor": 2
}
